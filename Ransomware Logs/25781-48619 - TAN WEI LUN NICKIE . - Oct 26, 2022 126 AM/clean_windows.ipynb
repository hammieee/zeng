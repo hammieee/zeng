{
 "cells": [
  {
   "cell_type": "code",
   "execution_count": 23,
   "metadata": {},
   "outputs": [],
   "source": [
    "import pandas as pd\n",
    "\n",
    "pd.set_option('display.max_rows', 500)\n",
    "pd.set_option('display.max_columns', 500)\n",
    "pd.set_option('display.width', 1000)\n",
    "pd.set_option('display.max_colwidth', 1000)\n",
    "\n",
    "df = pd.read_csv(\"apache_access_logs.csv\")\n",
    "\n",
    "df = df[df.columns.drop(list(df.filter(regex='keyword')))]\n",
    "df = df.drop([\"@version\", \"_id\", \"_index\", \"_score\", \"agent.ephemeral_id\", \"agent.id\", \"agent.name\", \"agent.type\", \"agent.version\", \n",
    "\"ecs.version\", \"event.category\", \"event.created\", \"event.dataset\", \"event.ingested\", \"event.kind\", \"event.module\", \"tags\", \"host.name\", \"fileset.name\"], axis=1)"
   ]
  },
  {
   "cell_type": "code",
   "execution_count": 25,
   "metadata": {},
   "outputs": [],
   "source": [
    "df.to_csv(\"apache_logs_clenaed.csv\")"
   ]
  }
 ],
 "metadata": {
  "kernelspec": {
   "display_name": "Python 3.10.6 ('ICT3204')",
   "language": "python",
   "name": "python3"
  },
  "language_info": {
   "codemirror_mode": {
    "name": "ipython",
    "version": 3
   },
   "file_extension": ".py",
   "mimetype": "text/x-python",
   "name": "python",
   "nbconvert_exporter": "python",
   "pygments_lexer": "ipython3",
   "version": "3.10.6"
  },
  "orig_nbformat": 4,
  "vscode": {
   "interpreter": {
    "hash": "591d33f8265bb7b0d7b35b2c0e702714eaf23c1beb52ec6de341497de8bc90eb"
   }
  }
 },
 "nbformat": 4,
 "nbformat_minor": 2
}
