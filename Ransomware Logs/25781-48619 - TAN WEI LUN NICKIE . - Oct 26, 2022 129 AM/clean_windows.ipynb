{
 "cells": [
  {
   "cell_type": "code",
   "execution_count": 16,
   "metadata": {},
   "outputs": [],
   "source": [
    "import pandas as pd\n",
    "\n",
    "pd.set_option('display.max_rows', 500)\n",
    "pd.set_option('display.max_columns', 500)\n",
    "pd.set_option('display.width', 1000)\n",
    "pd.set_option('display.max_colwidth', 1000)\n",
    "\n",
    "df = pd.read_csv(\"event_viewer_logs.csv\")\n",
    "\n",
    "df = df[df.columns.drop(list(df.filter(regex='keyword')))]\n",
    "df = df.drop([\"_id\", \"_index\", \"_score\", \"agent.ephemeral_id\", \"agent.id\", \"agent.name\", \"agent.type\", \"agent.version\", \n",
    "\"ecs.version\", \"event.category\", \"event.created\", \"event.ingested\", \"event.kind\"], axis=1)"
   ]
  },
  {
   "cell_type": "code",
   "execution_count": 19,
   "metadata": {},
   "outputs": [],
   "source": [
    "df.to_csv(\"eventlogs_cleaned.csv\")"
   ]
  },
  {
   "cell_type": "code",
   "execution_count": 43,
   "metadata": {},
   "outputs": [],
   "source": [
    "df2 = df.copy(deep=True)"
   ]
  },
  {
   "cell_type": "code",
   "execution_count": 44,
   "metadata": {},
   "outputs": [],
   "source": [
    "df2 = df2[df2[\"event.module\"].str.contains(\"powershell\")].reset_index(drop=True)"
   ]
  },
  {
   "cell_type": "code",
   "execution_count": 45,
   "metadata": {},
   "outputs": [],
   "source": [
    "df2.to_csv(\"ransom_event.csv\")"
   ]
  },
  {
   "cell_type": "code",
   "execution_count": 46,
   "metadata": {},
   "outputs": [],
   "source": [
    "df3 = df.copy(deep=True)\n",
    "df3 = df3[df3[\"message\"].str.contains(\"ESET\") | df3[\"message\"].str.contains(\"mhy\")].reset_index(drop=True)"
   ]
  },
  {
   "cell_type": "code",
   "execution_count": 47,
   "metadata": {},
   "outputs": [],
   "source": [
    "df3.to_csv(\"evasion_event.csv\")"
   ]
  },
  {
   "cell_type": "code",
   "execution_count": null,
   "metadata": {},
   "outputs": [],
   "source": [
    "df4 = df.copy(deep=True)\n",
    "df4[df4[\"message\"].str.contains(\"backup.exe\") | df4[\"host.os.name.text\"].str.contains(\"backup.exe\")].reset_index(drop=True)"
   ]
  },
  {
   "cell_type": "code",
   "execution_count": 49,
   "metadata": {},
   "outputs": [],
   "source": [
    "df4.to_csv(\"privEsc_event.csv\")"
   ]
  }
 ],
 "metadata": {
  "kernelspec": {
   "display_name": "Python 3.10.6 ('ICT3204')",
   "language": "python",
   "name": "python3"
  },
  "language_info": {
   "codemirror_mode": {
    "name": "ipython",
    "version": 3
   },
   "file_extension": ".py",
   "mimetype": "text/x-python",
   "name": "python",
   "nbconvert_exporter": "python",
   "pygments_lexer": "ipython3",
   "version": "3.10.6"
  },
  "orig_nbformat": 4,
  "vscode": {
   "interpreter": {
    "hash": "591d33f8265bb7b0d7b35b2c0e702714eaf23c1beb52ec6de341497de8bc90eb"
   }
  }
 },
 "nbformat": 4,
 "nbformat_minor": 2
}
